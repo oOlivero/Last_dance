{
 "cells": [
  {
   "cell_type": "code",
   "execution_count": 1,
   "metadata": {},
   "outputs": [
    {
     "name": "stdout",
     "output_type": "stream",
     "text": [
      "WARNING:tensorflow:From C:\\Users\\ole\\AppData\\Roaming\\Python\\Python37\\site-packages\\tensorflow_core\\python\\compat\\v2_compat.py:88: disable_resource_variables (from tensorflow.python.ops.variable_scope) is deprecated and will be removed in a future version.\n",
      "Instructions for updating:\n",
      "non-resource variables are not supported in the long term\n"
     ]
    },
    {
     "name": "stderr",
     "output_type": "stream",
     "text": [
      "C:\\Users\\ole\\Anaconda3\\lib\\site-packages\\pandas_datareader\\compat\\__init__.py:7: FutureWarning: pandas.util.testing is deprecated. Use the functions in the public API at pandas.testing instead.\n",
      "  from pandas.util.testing import assert_frame_equal\n"
     ]
    }
   ],
   "source": [
    "#基于lstm量化交易系统\n",
    "import pandas as pd\n",
    "import numpy as np\n",
    "import matplotlib.pyplot as plt\n",
    "import seaborn as sns\n",
    "import tensorflow.compat.v1 as tf\n",
    "tf.disable_v2_behavior()\n",
    "from pandas_datareader import data as pdr\n",
    "import datetime\n",
    "import yfinance as yf\n",
    "import json"
   ]
  },
  {
   "cell_type": "code",
   "execution_count": 2,
   "metadata": {},
   "outputs": [],
   "source": [
    "import os\n",
    "os.environ[\"CUDA_VISIBLE_DEVICES\"]=\"-1\"    "
   ]
  },
  {
   "cell_type": "code",
   "execution_count": 3,
   "metadata": {},
   "outputs": [
    {
     "name": "stdout",
     "output_type": "stream",
     "text": [
      "{'Access Key': 'dqnh6tvdf3-384f7880-6d85af4e-d6ec5', 'Secret Key': '8ca950a5-3f6b29db-998ea629-08452'}\n"
     ]
    }
   ],
   "source": [
    "#配置火币API\n",
    "from HuobiDMService import HuobiDM\n",
    "from pprint import pprint\n",
    "\n",
    "# 输入火币合约交易的api地址\n",
    "URL = 'https://api.btcgateway.pro'\n",
    "with open(\"../api_key.json\",'r') as load_f:\n",
    "    api_key = json.load(load_f)\n",
    "    print(api_key)\n",
    "#  输入 access_key 和 secret_key :\n",
    "ACCESS_KEY = api_key['Access Key']\n",
    "SECRET_KEY = api_key['Secret Key']\n",
    "\n",
    "\n",
    "dm = HuobiDM(URL, ACCESS_KEY, SECRET_KEY)"
   ]
  },
  {
   "cell_type": "code",
   "execution_count": 4,
   "metadata": {},
   "outputs": [],
   "source": [
    "#配置matplotlib画图的符号\n",
    "plt.rcParams['font.sans-serif'] = ['SimHei']  #显示中文\n",
    "plt.rcParams['axes.unicode_minus']=False #用来正常显示坐标中的负号\n",
    "\n",
    "def get_stock_data(name):\n",
    "    try:\n",
    "        yf.pdr_override()\n",
    "    #实时股票数据\n",
    "        finance = pdr.get_data_yahoo(name,start = datetime.datetime(2014,11,11),end = datetime.datetime(2020,3,20))  \n",
    "        data = np.array(finance['Close']) #获取收盘价的数据\n",
    "        data = data[::1] #获取这列的所有数据\n",
    "        print('股票数据获取完成！！')\n",
    "        return data\n",
    "    except Exception:\n",
    "        print('股票数据获取失败！！')\n",
    "def get_coin_data(name):\n",
    "    try:\n",
    "        finance = pd.DataFrame(dm.get_contract_kline(symbol=name, period='5min', size=2000)['data'])\n",
    "        data = np.array(finance['close']) #获取收盘价的数据\n",
    "        data = data[::1] #获取这列的所有数据\n",
    "        print(data)\n",
    "        print('数据获取完成！！')\n",
    "        return data\n",
    "    except Exception:\n",
    "        print('数据获取失败！！')\n"
   ]
  },
  {
   "cell_type": "code",
   "execution_count": null,
   "metadata": {},
   "outputs": [],
   "source": [
    "data = get_stock_data('002048.SZ')\n",
    "#以折线图展示导入的数据\n",
    "fig =plt.figure()\n",
    "#fig.add_subplot(1,2,1)\n",
    "#plt.plot(data)\n",
    "#plt.show()\n",
    "normalize_data=(data-np.mean(data))/np.std(data)  #对数据进行标准化 （数据 - 均值）/（方差）\n",
    "normalize_data=normalize_data[:,np.newaxis]       #增加数据的维度，使数据维度相同"
   ]
  },
  {
   "cell_type": "code",
   "execution_count": null,
   "metadata": {},
   "outputs": [],
   "source": [
    "#———————————————————形成训练集—————————————————————\n",
    "#设置rnn网络的常量\n",
    "time_step=20     #时间步 ，rnn每迭代20次，就向前推进一步\n",
    "rnn_unit=10       # hidden layer units\n",
    "batch_size=60     # 每一批训练多少个样例\n",
    "input_size=1      # 输入层数维度\n",
    "output_size=1     # 输出层数维度\n",
    "lr=0.0006         # 学习率\n",
    "train_x,train_y=[],[]   #训练集\n",
    "for i in range(len(normalize_data)-time_step-1):\n",
    "    x=normalize_data[i:i+time_step]\n",
    "    y=normalize_data[i+1:i+time_step+1]\n",
    "    train_x.append(x.tolist())\n",
    "    train_y.append(y.tolist()) \n",
    "# print(len(normalize_data))\n",
    "# print(train_x)\n",
    "# print(train_y)"
   ]
  },
  {
   "cell_type": "code",
   "execution_count": null,
   "metadata": {},
   "outputs": [],
   "source": [
    "#———————————————————定义神经网络变量—————————————————————\n",
    "\n",
    "X=tf.placeholder(tf.float32, [None,time_step,input_size])    #每批次输入网络的tensor\n",
    "Y=tf.placeholder(tf.float32, [None,time_step,output_size])   # 每批次tensor对应的标签\n",
    "#输入层、输出层的权重和偏置\n",
    "weights={\n",
    "         'in':tf.Variable(tf.random_normal([input_size,rnn_unit])),\n",
    "         'out':tf.Variable(tf.random_normal([rnn_unit,1]))\n",
    "         }\n",
    "biases={\n",
    "        'in':tf.Variable(tf.constant(0.1,shape=[rnn_unit,])),\n",
    "        'out':tf.Variable(tf.constant(0.1,shape=[1,]))\n",
    "        }"
   ]
  },
  {
   "cell_type": "code",
   "execution_count": null,
   "metadata": {},
   "outputs": [],
   "source": [
    "#———————————————————定义lstm网络—————————————————————\n",
    "def lstm(batch):      #参数：输入网络批次数目\n",
    "    w_in=weights['in']\n",
    "    b_in=biases['in']\n",
    "    input=tf.reshape(X,[-1,input_size])  #需要将tensor转为2维进行计算，计算后的结果作为 隐藏层的输入\n",
    "    input_rnn=tf.matmul(input,w_in)+b_in\n",
    "    input_rnn=tf.reshape(input_rnn,[-1,time_step,rnn_unit])   #将tensor转为3维，作为 lstm cell的输入\n",
    "    cell=tf.nn.rnn_cell.BasicLSTMCell(rnn_unit)\n",
    "    init_state=cell.zero_state(batch,dtype=tf.float32)\n",
    "    output_rnn,final_states=tf.nn.dynamic_rnn(cell, input_rnn,initial_state=init_state, dtype=tf.float32)\n",
    "    output=tf.reshape(output_rnn,[-1,rnn_unit])  #作为输出层的输入\n",
    "    w_out=weights['out']\n",
    "    b_out=biases['out']\n",
    "    pred=tf.matmul(output,w_out)+b_out\n",
    "    return pred,final_states\n",
    "\n"
   ]
  },
  {
   "cell_type": "code",
   "execution_count": null,
   "metadata": {},
   "outputs": [],
   "source": [
    "#———————————————————对模型进行训练—————————————————————\n",
    "def train_lstm():\n",
    "    global batch_size\n",
    "    with tf.variable_scope(\"sec_lstm\"):\n",
    "        pred,_=lstm(batch_size)\n",
    "    #定义损失函数\n",
    "    loss=tf.reduce_mean(tf.square(tf.reshape(pred,[-1])-tf.reshape(Y, [-1])))\n",
    "    train_op=tf.train.AdamOptimizer(lr).minimize(loss)\n",
    "    saver=tf.train.Saver(tf.global_variables())\n",
    "    with tf.Session() as sess:\n",
    "        sess.run(tf.global_variables_initializer())\n",
    "        loss_list = [] #收集损失值\n",
    "        for i in range(201): #模型训练的次数，We can increase the number of iterations to gain better result.\n",
    "            step=0\n",
    "            start=0\n",
    "            end=start+batch_size\n",
    "            while(end<len(train_x)):\n",
    "                _,loss_=sess.run([train_op,loss],feed_dict={X:train_x[start:end],Y:train_y[start:end]})\n",
    "                start+=batch_size\n",
    "                end=start+batch_size\n",
    "                #每训练10次保存一次参数\n",
    "                if step%10==0:\n",
    "                    print(\"Number of iterations:\",i,\" loss:\",loss_) #输出训练次数，输出损失值\n",
    "                    print(\"model_save\",saver.save(sess,'./model_save1/modle.ckpt')) #第二个参数是保存的地址，可以修改为自己本地的保存地址\n",
    "                    #I run the code in windows 10,so use  'model_save1\\\\modle.ckpt'\n",
    "                    #if you run it in Linux,please use  'model_save1/modle.ckpt'\n",
    "                    loss_list.append(loss_)\n",
    "                step+=1\n",
    "        print(\"The train has finished\")\n",
    "        print(len(loss_list))\n",
    "        sns.set_style(style = 'whitegrid') #详细参数看seaborn的API  http://seaborn.pydata.org/api.html\n",
    "        #设置字体\n",
    "        sns.set_context(context = 'poster',font_scale = 1)\n",
    "        plt.figure(figsize = (20,20)) #图像大小为20*20英寸\n",
    "        plt.plot(np.arange(0,len(loss_list)),loss_list,'+-',color = 'g')\n",
    "        plt.title('Loss trend')\n",
    "        plt.ylabel('Loss')\n"
   ]
  },
  {
   "cell_type": "code",
   "execution_count": null,
   "metadata": {},
   "outputs": [],
   "source": [
    "train_lstm() #对模型进行训练"
   ]
  },
  {
   "cell_type": "code",
   "execution_count": null,
   "metadata": {},
   "outputs": [],
   "source": [
    "#———————————————————预测模型—————————————————————\n",
    "def prediction():\n",
    "    with tf.variable_scope(\"sec_lstm\",reuse=True):\n",
    "        pred,_=lstm(1)    #预测时只输入[1,time_step,input_size]的测试数据\n",
    "    saver=tf.train.Saver(tf.global_variables())\n",
    "    with tf.Session() as sess:\n",
    "        #参数恢复\n",
    "        saver.restore(sess, './model_save1/modle.ckpt') #第二个参数是保存的地址，可以修改为自己本地的保存地址\n",
    "        #I run the code in windows 10,so use  'model_save1\\\\modle.ckpt'\n",
    "        #if you run it in Linux,please use  'model_save1/modle.ckpt'\n",
    "        \n",
    "        #取训练集最后一行为测试样本。shape = [1,time_step,input_size]\n",
    "        prev_seq=train_x[-1]\n",
    "        predict=[]\n",
    "        #得到之后的100个预测结果\n",
    "        for i in range(100):  #预测100个数值\n",
    "            next_seq=sess.run(pred,feed_dict={X:[prev_seq]})\n",
    "            predict.append(next_seq[-1])\n",
    "            #每次得到最后一个时间步的预测结果，与之前的数据加在一起，形成新的测试数据\n",
    "            prev_seq=np.vstack((prev_seq[1:],next_seq[-1]))\n",
    "        #以折线图展示结果\n",
    "        plt.figure(figsize = (20,20)) #图像大小为8*8英寸\n",
    "        #设置背景风格\n",
    "        sns.set_style(style = 'whitegrid') #详细参数看seaborn的API  http://seaborn.pydata.org/api.html\n",
    "        #设置字体\n",
    "        sns.set_context(context = 'poster',font_scale = 1)\n",
    "        plt.title('Prediction')\n",
    "        predict = np.squeeze(predict)#减少数据维度\n",
    "        predict = predict*np.std(data)+np.mean(data)#恢复先前价格\n",
    "        plt.plot(list(range(len(data))), data, color='b',label = 'raw data') #这是原来股票的价格走势，用蓝色曲线表示\n",
    "        plt.plot(list(range(len(data), len(data) + len(predict))), predict, color='r',label = 'predict trend') #预测未来的价格走势用红色表示\n",
    "        plt.legend(loc = 'best')\n",
    "        plt.xlabel('Time')\n",
    "        plt.ylabel('Price')\n",
    "        plt.show()\n",
    "#fig.add_subplot(1,2,2)       "
   ]
  },
  {
   "cell_type": "code",
   "execution_count": null,
   "metadata": {},
   "outputs": [],
   "source": [
    "prediction() "
   ]
  },
  {
   "cell_type": "code",
   "execution_count": null,
   "metadata": {},
   "outputs": [],
   "source": []
  },
  {
   "cell_type": "code",
   "execution_count": null,
   "metadata": {},
   "outputs": [],
   "source": []
  }
 ],
 "metadata": {
  "kernelspec": {
   "display_name": "TF-GPU",
   "language": "python",
   "name": "tensorflow-gpu"
  },
  "language_info": {
   "codemirror_mode": {
    "name": "ipython",
    "version": 3
   },
   "file_extension": ".py",
   "mimetype": "text/x-python",
   "name": "python",
   "nbconvert_exporter": "python",
   "pygments_lexer": "ipython3",
   "version": "3.7.4"
  }
 },
 "nbformat": 4,
 "nbformat_minor": 2
}
