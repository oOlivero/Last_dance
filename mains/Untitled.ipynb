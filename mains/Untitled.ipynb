{
 "cells": [
  {
   "cell_type": "code",
   "execution_count": 1,
   "metadata": {},
   "outputs": [
    {
     "ename": "ModuleNotFoundError",
     "evalue": "No module named 'data_loader'",
     "output_type": "error",
     "traceback": [
      "\u001b[1;31m---------------------------------------------------------------------------\u001b[0m",
      "\u001b[1;31mModuleNotFoundError\u001b[0m                       Traceback (most recent call last)",
      "\u001b[1;32m<ipython-input-1-ab5e55ee1b55>\u001b[0m in \u001b[0;36m<module>\u001b[1;34m\u001b[0m\n\u001b[0;32m      1\u001b[0m \u001b[1;32mimport\u001b[0m \u001b[0mtensorflow\u001b[0m \u001b[1;32mas\u001b[0m \u001b[0mtf\u001b[0m\u001b[1;33m\u001b[0m\u001b[1;33m\u001b[0m\u001b[0m\n\u001b[0;32m      2\u001b[0m \u001b[1;33m\u001b[0m\u001b[0m\n\u001b[1;32m----> 3\u001b[1;33m \u001b[1;32mfrom\u001b[0m \u001b[0mdata_loader\u001b[0m\u001b[1;33m.\u001b[0m\u001b[0mdata_generator\u001b[0m \u001b[1;32mimport\u001b[0m \u001b[0mDataGenerator\u001b[0m\u001b[1;33m\u001b[0m\u001b[1;33m\u001b[0m\u001b[0m\n\u001b[0m\u001b[0;32m      4\u001b[0m \u001b[1;32mfrom\u001b[0m \u001b[0mmodels\u001b[0m\u001b[1;33m.\u001b[0m\u001b[0mexample_model\u001b[0m \u001b[1;32mimport\u001b[0m \u001b[0mExampleModel\u001b[0m\u001b[1;33m\u001b[0m\u001b[1;33m\u001b[0m\u001b[0m\n\u001b[0;32m      5\u001b[0m \u001b[1;32mfrom\u001b[0m \u001b[0mtrainers\u001b[0m\u001b[1;33m.\u001b[0m\u001b[0mexample_trainer\u001b[0m \u001b[1;32mimport\u001b[0m \u001b[0mExampleTrainer\u001b[0m\u001b[1;33m\u001b[0m\u001b[1;33m\u001b[0m\u001b[0m\n",
      "\u001b[1;31mModuleNotFoundError\u001b[0m: No module named 'data_loader'"
     ]
    }
   ],
   "source": [
    "import tensorflow as tf\n",
    "\n",
    "from data_loader.data_generator import DataGenerator\n",
    "from models.example_model import ExampleModel\n",
    "from trainers.example_trainer import ExampleTrainer\n",
    "from utils.config import process_config\n",
    "from utils.dirs import create_dirs\n",
    "from utils.logger import Logger\n",
    "from utils.utils import get_args\n",
    "\n",
    "\n",
    "def main():\n",
    "    # capture the config path from the run arguments\n",
    "    # then process the json configuration file\n",
    "    try:\n",
    "        args = get_args()\n",
    "        config = process_config(args.config)\n",
    "\n",
    "    except:\n",
    "        print(\"missing or invalid arguments\")\n",
    "        exit(0)\n",
    "\n",
    "    # create the experiments dirs\n",
    "    create_dirs([config.summary_dir, config.checkpoint_dir])\n",
    "    # create tensorflow session\n",
    "    sess = tf.Session()\n",
    "    # create your data generator\n",
    "    data = DataGenerator(config).data\n",
    "    \n",
    "    # create an instance of the model you want\n",
    "    model = ExampleModel(config)\n",
    "    # create tensorboard logger\n",
    "    logger = Logger(sess, config)\n",
    "    # create trainer and pass all the previous components to it\n",
    "    trainer = ExampleTrainer(sess, model, data, config, logger)\n",
    "    #load model if exists\n",
    "    model.load(sess)\n",
    "    # here you train your model\n",
    "    trainer.train()\n",
    "\n",
    "\n",
    "if __name__ == '__main__':\n",
    "    main()\n"
   ]
  },
  {
   "cell_type": "code",
   "execution_count": null,
   "metadata": {},
   "outputs": [],
   "source": []
  }
 ],
 "metadata": {
  "kernelspec": {
   "display_name": "Python 3",
   "language": "python",
   "name": "python3"
  },
  "language_info": {
   "codemirror_mode": {
    "name": "ipython",
    "version": 3
   },
   "file_extension": ".py",
   "mimetype": "text/x-python",
   "name": "python",
   "nbconvert_exporter": "python",
   "pygments_lexer": "ipython3",
   "version": "3.7.4"
  }
 },
 "nbformat": 4,
 "nbformat_minor": 4
}
